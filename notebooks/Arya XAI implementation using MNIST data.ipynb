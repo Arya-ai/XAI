{
 "cells": [
  {
   "cell_type": "code",
   "execution_count": 1,
   "metadata": {},
   "outputs": [],
   "source": [
    "from cv2 import imread\n",
    "import cv2\n",
    "import numpy as np\n",
    "import requests\n",
    "import json\n",
    "from glob import glob\n",
    "from matplotlib import pyplot as plt\n",
    "from matplotlib import cm\n",
    "from datetime import datetime\n"
   ]
  },
  {
   "cell_type": "markdown",
   "metadata": {},
   "source": [
    "### Helper Functions"
   ]
  },
  {
   "cell_type": "code",
   "execution_count": 2,
   "metadata": {},
   "outputs": [],
   "source": [
    "def print_json(d, m):\n",
    "    for k in d.keys():\n",
    "        if isinstance(d[k],dict):\n",
    "            print(\"\\t\"*m, k)\n",
    "            print_json(d[k],m+1)\n",
    "        else:\n",
    "            if isinstance(d[k],list):\n",
    "                print(\"\\t\"*m, k, \"-->\", type(d[k]),\"\\t\",np.array(d[k]).shape,\"\\n\")\n",
    "            else:\n",
    "                print(\"\\t\"*m, k, \"-->\", type(d[k]),\"\\n\")\n",
    "                \n",
    "\n",
    "def weight_normalize(arg,max_val=1.0):\n",
    "    arg_max = np.max(arg)\n",
    "    arg_min = np.abs(np.min(arg))\n",
    "    if arg_max>arg_min:\n",
    "        return (arg/arg_max)*max_val\n",
    "    elif arg_min>0:\n",
    "        return (arg/arg_min)*max_val\n",
    "    else:\n",
    "        return arg"
   ]
  },
  {
   "cell_type": "markdown",
   "metadata": {},
   "source": [
    "### Data"
   ]
  },
  {
   "cell_type": "code",
   "execution_count": 3,
   "metadata": {},
   "outputs": [
    {
     "name": "stdout",
     "output_type": "stream",
     "text": [
      "Shape of input data: (28, 28, 1)\n"
     ]
    }
   ],
   "source": [
    "img = imread('trials/test3.png',0)\n",
    "img = np.invert(img)\n",
    "img = cv2.resize(img,(28,28))\n",
    "x = img.reshape(28,28,1)\n",
    "x = x.astype('float32')\n",
    "x /= 255\n",
    "print (\"Shape of input data:\", x.shape)\n",
    "x = np.array(x).tolist()"
   ]
  },
  {
   "cell_type": "markdown",
   "metadata": {},
   "source": [
    "## API Request"
   ]
  },
  {
   "cell_type": "markdown",
   "metadata": {},
   "source": [
    "### Default Mode"
   ]
  },
  {
   "cell_type": "code",
   "execution_count": 4,
   "metadata": {},
   "outputs": [],
   "source": [
    "url = \"https://xai.arya.ai/api/v1/explainability\"\n",
    "payload = json.dumps({\n",
    "  \"data\": x,\n",
    "  \"is_multi_input\": False,\n",
    "  \"mode\": \"default\",\n",
    "  \"token\": \"1629876952391\",\n",
    "  \"scaler\": 1.0,\n",
    "  \"predictions\": True\n",
    "})\n",
    "headers = {\n",
    "  'Content-Type': 'application/json'\n",
    "}\n",
    "\n",
    "response = requests.request(\"POST\", url, headers=headers, data=payload)"
   ]
  },
  {
   "cell_type": "markdown",
   "metadata": {},
   "source": [
    "#### API Response"
   ]
  },
  {
   "cell_type": "code",
   "execution_count": 5,
   "metadata": {},
   "outputs": [],
   "source": [
    "output = response.json()"
   ]
  },
  {
   "cell_type": "code",
   "execution_count": 6,
   "metadata": {},
   "outputs": [
    {
     "name": "stdout",
     "output_type": "stream",
     "text": [
      " success --> <class 'bool'> \n",
      "\n",
      " data\n",
      "\t conv2d_1_input --> <class 'list'> \t (28, 28, 1) \n",
      "\n",
      " network_output\n",
      "\t dense_2/Softmax:0 --> <class 'list'> \t (1, 10) \n",
      "\n"
     ]
    }
   ],
   "source": [
    "print_json(output,0)    "
   ]
  },
  {
   "cell_type": "code",
   "execution_count": 7,
   "metadata": {},
   "outputs": [
    {
     "data": {
      "image/png": "[encoded data removed]",
      "text/plain": [
       "<Figure size 1440x1440 with 2 Axes>"
      ]
     },
     "metadata": {
      "needs_background": "light"
     },
     "output_type": "display_data"
    }
   ],
   "source": [
    "k = list(output[\"data\"].keys())[0]\n",
    "fig = plt.figure(figsize=(20,20))\n",
    "gs = fig.add_gridspec(1, 2, hspace=0.1, wspace=0.1)\n",
    "axs = gs.subplots()\n",
    "axs[0].imshow(img,cmap='gray')\n",
    "axs[0].set_title(\"Input\",fontsize=16)\n",
    "axs[1].imshow(weight_normalize(output[\"data\"][k]),cmap='inferno')\n",
    "axs[1].set_title(\"Default\",fontsize=16)\n",
    "plt.show()"
   ]
  },
  {
   "cell_type": "markdown",
   "metadata": {},
   "source": [
    "### Contrast Mode"
   ]
  },
  {
   "cell_type": "code",
   "execution_count": 8,
   "metadata": {},
   "outputs": [],
   "source": [
    "url = \"https://xai.arya.ai/api/v1/explainability\"\n",
    "payload = json.dumps({\n",
    "  \"data\": x,\n",
    "  \"is_multi_input\": False,\n",
    "  \"mode\": \"contrast\",\n",
    "  \"token\": \"1629876952391\",\n",
    "  \"scaler\": 1.0,\n",
    "  \"predictions\": True\n",
    "})\n",
    "headers = {\n",
    "  'Content-Type': 'application/json'\n",
    "}\n",
    "\n",
    "response = requests.request(\"POST\", url, headers=headers, data=payload)"
   ]
  },
  {
   "cell_type": "markdown",
   "metadata": {},
   "source": [
    "#### API Response"
   ]
  },
  {
   "cell_type": "code",
   "execution_count": 9,
   "metadata": {},
   "outputs": [],
   "source": [
    "output = response.json()"
   ]
  },
  {
   "cell_type": "code",
   "execution_count": 10,
   "metadata": {},
   "outputs": [
    {
     "name": "stdout",
     "output_type": "stream",
     "text": [
      " success --> <class 'bool'> \n",
      "\n",
      " data\n",
      "\t conv2d_1_input\n",
      "\t\t positive --> <class 'list'> \t (28, 28, 1) \n",
      "\n",
      "\t\t negative --> <class 'list'> \t (28, 28, 1) \n",
      "\n",
      " network_output\n",
      "\t dense_2/Softmax:0 --> <class 'list'> \t (1, 10) \n",
      "\n"
     ]
    }
   ],
   "source": [
    "print_json(output,0)    "
   ]
  },
  {
   "cell_type": "code",
   "execution_count": 11,
   "metadata": {},
   "outputs": [
    {
     "data": {
      "image/png": "[encoded data removed]",
      "text/plain": [
       "<Figure size 1440x1440 with 3 Axes>"
      ]
     },
     "metadata": {
      "needs_background": "light"
     },
     "output_type": "display_data"
    }
   ],
   "source": [
    "k = list(output[\"data\"].keys())[0]\n",
    "\n",
    "fig = plt.figure(figsize=(20,20))\n",
    "gs = fig.add_gridspec(1, 3, hspace=0.1, wspace=0.1)\n",
    "axs = gs.subplots()\n",
    "axs[0].imshow(img,cmap='gray')\n",
    "axs[0].set_title(\"Input\",fontsize=16)\n",
    "axs[1].imshow(weight_normalize(output[\"data\"][k][\"positive\"]),cmap='PuBuGn')\n",
    "axs[1].set_title(\"Positive\",fontsize=16)\n",
    "axs[2].imshow(weight_normalize(output[\"data\"][k][\"negative\"]),cmap='YlOrRd')\n",
    "axs[2].set_title(\"Negative\",fontsize=16)\n",
    "plt.show()"
   ]
  },
  {
   "cell_type": "code",
   "execution_count": null,
   "metadata": {},
   "outputs": [],
   "source": []
  }
 ],
 "metadata": {
  "kernelspec": {
   "display_name": "Python 3",
   "language": "python",
   "name": "python3"
  },
  "language_info": {
   "codemirror_mode": {
    "name": "ipython",
    "version": 3
   },
   "file_extension": ".py",
   "mimetype": "text/x-python",
   "name": "python",
   "nbconvert_exporter": "python",
   "pygments_lexer": "ipython3",
   "version": "3.6.9"
  }
 },
 "nbformat": 4,
 "nbformat_minor": 4
}
